{
  "nbformat": 4,
  "nbformat_minor": 0,
  "metadata": {
    "colab": {
      "provenance": [],
      "authorship_tag": "ABX9TyOXRv7bq+pf2pmsbtRJWjyT",
      "include_colab_link": true
    },
    "kernelspec": {
      "name": "python3",
      "display_name": "Python 3"
    },
    "language_info": {
      "name": "python"
    }
  },
  "cells": [
    {
      "cell_type": "markdown",
      "metadata": {
        "id": "view-in-github",
        "colab_type": "text"
      },
      "source": [
        "<a href=\"https://colab.research.google.com/github/groovesocket/scratch/blob/main/sum_recursive.ipynb\" target=\"_parent\"><img src=\"https://colab.research.google.com/assets/colab-badge.svg\" alt=\"Open In Colab\"/></a>"
      ]
    },
    {
      "cell_type": "code",
      "execution_count": 3,
      "metadata": {
        "colab": {
          "base_uri": "https://localhost:8080/"
        },
        "id": "YMPchh-w7-uu",
        "outputId": "13c63a2f-dd4e-49cc-85c6-1059aed3729b"
      },
      "outputs": [
        {
          "output_type": "stream",
          "name": "stdout",
          "text": [
            "15\n"
          ]
        }
      ],
      "source": [
        "# recursive function that given an input n sums all non-negative integers up to n\n",
        "\n",
        "def sum_recursive(n):\n",
        "  # base case\n",
        "  if n == 0:\n",
        "    return 0\n",
        "  # invalid input case\n",
        "  elif n <= 0 or isinstance(n, float): # Check if n is a positive integer or a float\n",
        "    return None\n",
        "  # recursive case\n",
        "  else:\n",
        "    return n + sum_recursive(n-1)\n",
        "\n",
        "result = sum_recursive(5)\n",
        "if result is None:\n",
        "    print(\"Invalid input. Input must be a positive integer.\")\n",
        "else:\n",
        "    print(result)"
      ]
    }
  ]
}