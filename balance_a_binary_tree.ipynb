{
  "nbformat": 4,
  "nbformat_minor": 0,
  "metadata": {
    "colab": {
      "provenance": [],
      "authorship_tag": "ABX9TyN46pb2cJNAkOUCQMvJldCf",
      "include_colab_link": true
    },
    "kernelspec": {
      "name": "python3",
      "display_name": "Python 3"
    },
    "language_info": {
      "name": "python"
    }
  },
  "cells": [
    {
      "cell_type": "markdown",
      "metadata": {
        "id": "view-in-github",
        "colab_type": "text"
      },
      "source": [
        "<a href=\"https://colab.research.google.com/github/groovesocket/scratch/blob/main/balance_a_binary_tree.ipynb\" target=\"_parent\"><img src=\"https://colab.research.google.com/assets/colab-badge.svg\" alt=\"Open In Colab\"/></a>"
      ]
    },
    {
      "cell_type": "code",
      "execution_count": 1,
      "metadata": {
        "colab": {
          "base_uri": "https://localhost:8080/"
        },
        "id": "oQNxWEES2ran",
        "outputId": "4b8b825d-0983-4b7f-f0c9-295d3a92cdab"
      },
      "outputs": [
        {
          "output_type": "stream",
          "name": "stdout",
          "text": [
            "Preorder traversal of the constructed AVL tree is:\n",
            "30 20 10 25 40 50 "
          ]
        }
      ],
      "source": [
        "\"\"\"\n",
        "Explanation:\n",
        "Node Class: Defines the structure of a node in the binary tree, with data, left child, and right child.\n",
        "height(node): Calculates the height of a given node in the tree.\n",
        "getBalance(node): Calculates the balance factor of a node (difference in height between left and right subtrees).\n",
        "rightRotate(z) and leftRotate(z): Perform right and left rotations on a node to balance the tree.\n",
        "insert(root, key): Inserts a new node with the given key while maintaining the balance of the tree using rotations.\n",
        "preOrder(root): Performs a preorder traversal of the tree, printing the node values.\n",
        "Example Usage: Demonstrates how to create a balanced binary tree by inserting nodes and then printing its preorder traversal.\n",
        "This code implements a self-balancing binary search tree (AVL tree) that ensures the tree remains balanced after each insertion, guaranteeing efficient search, insertion, and deletion operations.\n",
        "\"\"\"\n",
        "\n",
        "class Node:\n",
        "    def __init__(self, data):\n",
        "        self.data = data\n",
        "        self.left = None\n",
        "        self.right = None\n",
        "\n",
        "def height(node):\n",
        "    if node is None:\n",
        "        return 0\n",
        "    return 1 + max(height(node.left), height(node.right))\n",
        "\n",
        "def getBalance(node):\n",
        "    if node is None:\n",
        "        return 0\n",
        "    return height(node.left) - height(node.right)\n",
        "\n",
        "def rightRotate(z):\n",
        "    y = z.left\n",
        "    T3 = y.right\n",
        "    y.right = z\n",
        "    z.left = T3\n",
        "    return y\n",
        "\n",
        "def leftRotate(z):\n",
        "    y = z.right\n",
        "    T2 = y.left\n",
        "    y.left = z\n",
        "    z.right = T2\n",
        "    return y\n",
        "\n",
        "def insert(root, key):\n",
        "    if not root:\n",
        "        return Node(key)\n",
        "    elif key < root.data:\n",
        "        root.left = insert(root.left, key)\n",
        "    else:\n",
        "        root.right = insert(root.right, key)\n",
        "    balance = getBalance(root)\n",
        "    # Left Left\n",
        "    if balance > 1 and key < root.left.data:\n",
        "        return rightRotate(root)\n",
        "    # Right Right\n",
        "    if balance < -1 and key > root.right.data:\n",
        "        return leftRotate(root)\n",
        "    # Left Right\n",
        "    if balance > 1 and key > root.left.data:\n",
        "        root.left = leftRotate(root.left)\n",
        "        return rightRotate(root)\n",
        "    # Right Left\n",
        "    if balance < -1 and key < root.right.data:\n",
        "        root.right = rightRotate(root.right)\n",
        "        return leftRotate(root)\n",
        "    return root\n",
        "\n",
        "def preOrder(root):\n",
        "    if root:\n",
        "        print(root.data, end=\" \")\n",
        "        preOrder(root.left)\n",
        "        preOrder(root.right)\n",
        "\n",
        "# Example usage:\n",
        "myTree = None\n",
        "nums = [10, 20, 30, 40, 50, 25]\n",
        "for num in nums:\n",
        "    myTree = insert(myTree, num)\n",
        "\n",
        "print(\"Preorder traversal of the constructed AVL tree is:\")\n",
        "preOrder(myTree)"
      ]
    }
  ]
}